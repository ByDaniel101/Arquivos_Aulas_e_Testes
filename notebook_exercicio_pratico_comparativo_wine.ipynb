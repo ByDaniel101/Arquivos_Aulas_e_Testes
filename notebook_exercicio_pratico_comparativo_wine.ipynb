{
  "nbformat": 4,
  "nbformat_minor": 0,
  "metadata": {
    "colab": {
      "name": "notebook_exercicio_pratico_comparativo_wine.ipynb",
      "provenance": [],
      "collapsed_sections": [],
      "toc_visible": true
    },
    "kernelspec": {
      "name": "python3",
      "display_name": "Python 3"
    }
  },
  "cells": [
    {
      "cell_type": "markdown",
      "metadata": {
        "id": "U3QHK4xpMDa3"
      },
      "source": [
        "\n",
        "# Exercício Prático - Comparativo com Vinhos\n",
        "\n",
        "Classificação de Qualidade de Vinhos do tipo 'Tinto' (Arquivo fornecido junto com notebook - 'winequality-red.csv')\n",
        "\n",
        "Utilizar as técnicas de Cross-Validation e StratifiedKFold no problema de classificação dos Vinhos"
      ]
    },
    {
      "cell_type": "markdown",
      "metadata": {
        "id": "nsN9Z_Q2JzTs"
      },
      "source": [
        "# 1 - Extração dos Atributos\n",
        "\n"
      ]
    },
    {
      "cell_type": "code",
      "metadata": {
        "id": "wo990FnoGOHP",
        "outputId": "5cd298ff-0d5a-4076-d0b6-469db56609c8",
        "colab": {
          "base_uri": "https://localhost:8080/",
          "height": 153
        }
      },
      "source": [
        "# Seus códigos para a etapa 1 deverão ser criados aqui:\n",
        "import pandas as pd\n",
        "import matplotlib.pyplot as plt\n",
        "arquivo = \"https://raw.githubusercontent.com/ByDaniel101/Arquivos_Aulas_e_Testes/master/winequality-red.csv\"\n",
        "dataset = pd.read_csv(arquivo, delimiter = \";\", header = 0)\n",
        "\n",
        "#print(dataset.shape)\n",
        "print(dataset.groupby('quality').size())\n"
      ],
      "execution_count": 10,
      "outputs": [
        {
          "output_type": "stream",
          "text": [
            "quality\n",
            "3     10\n",
            "4     53\n",
            "5    681\n",
            "6    638\n",
            "7    199\n",
            "8     18\n",
            "dtype: int64\n"
          ],
          "name": "stdout"
        }
      ]
    },
    {
      "cell_type": "markdown",
      "metadata": {
        "id": "eC2-SnCpLyVs"
      },
      "source": [
        "# 2 - Divisão dos Dados com Cross-Validation\n"
      ]
    },
    {
      "cell_type": "code",
      "metadata": {
        "id": "9U1C4B_FMVOi",
        "outputId": "fd3bc291-9549-4e76-ade3-57eddf01a77f",
        "colab": {
          "base_uri": "https://localhost:8080/",
          "height": 34
        }
      },
      "source": [
        "# Seus códigos para a etapa 2 deverão ser criados aqui:\n",
        "from sklearn.model_selection import train_test_split\n",
        "from sklearn.model_selection import cross_val_score\n",
        "from sklearn.linear_model import LogisticRegression\n",
        "\n",
        "array = dataset.values\n",
        "X = array[:,0:11]\n",
        "y = array[:,11]\n",
        "\n",
        "# separação treino e validação\n",
        "X_train, X_validation, Y_train, Y_validation = train_test_split(X, y, test_size=0.20, random_state=1, shuffle=True)\n",
        "\n",
        "# criando o modelo e aplicando o cross_validation\n",
        "model = LogisticRegression(solver='liblinear', multi_class='ovr')\n",
        "cv_results = cross_val_score(model, X_train, Y_train, cv=5, scoring='accuracy')\n",
        "print('cv_results ', cv_results)"
      ],
      "execution_count": 11,
      "outputs": [
        {
          "output_type": "stream",
          "text": [
            "cv_results  [0.58984375 0.515625   0.625      0.58984375 0.57254902]\n"
          ],
          "name": "stdout"
        }
      ]
    },
    {
      "cell_type": "code",
      "metadata": {
        "id": "l1qNbzSt5NKT",
        "outputId": "48ed6b88-1e09-4743-dade-31cf2726daf8",
        "colab": {
          "base_uri": "https://localhost:8080/",
          "height": 119
        }
      },
      "source": [
        "# exibindo os resultados individualmente\n",
        "print(f'{len(cv_results)} treinamentos realizados')\n",
        "\n",
        "# print por resultado\n",
        "for valor in cv_results:\n",
        "  print(f'resultado treino: {valor}')"
      ],
      "execution_count": 12,
      "outputs": [
        {
          "output_type": "stream",
          "text": [
            "5 treinamentos realizados\n",
            "resultado treino: 0.58984375\n",
            "resultado treino: 0.515625\n",
            "resultado treino: 0.625\n",
            "resultado treino: 0.58984375\n",
            "resultado treino: 0.5725490196078431\n"
          ],
          "name": "stdout"
        }
      ]
    },
    {
      "cell_type": "code",
      "metadata": {
        "id": "u4kVeKsn6CmK",
        "outputId": "d6ea758e-a61d-45e3-eb02-b1b80c56508f",
        "colab": {
          "base_uri": "https://localhost:8080/",
          "height": 34
        }
      },
      "source": [
        "print(f'LR, média{cv_results.mean()} e desvio padrão {cv_results.std()}')"
      ],
      "execution_count": 13,
      "outputs": [
        {
          "output_type": "stream",
          "text": [
            "LR, média0.5785723039215686 e desvio padrão 0.0358001815120188\n"
          ],
          "name": "stdout"
        }
      ]
    },
    {
      "cell_type": "markdown",
      "metadata": {
        "id": "sgDVCmPiM3Lv"
      },
      "source": [
        "# 3 - Comparativo entre Modelos Com Cross-Validation e StratifiedKFold\n"
      ]
    },
    {
      "cell_type": "code",
      "metadata": {
        "id": "zMglNvZDNScZ"
      },
      "source": [
        "# Seus códigos para a etapa 3 deverão ser criados aqui: \n",
        "# carregando todos os modelos e funções necessárias\n",
        "from sklearn.model_selection import train_test_split\n",
        "from sklearn.model_selection import StratifiedKFold\n",
        "from sklearn.model_selection import cross_val_score\n",
        "\n",
        "# carregando os modelos\n",
        "from sklearn.linear_model import LogisticRegression\n",
        "from sklearn.tree import DecisionTreeClassifier\n",
        "from sklearn.neighbors import KNeighborsClassifier\n",
        "from sklearn.discriminant_analysis import LinearDiscriminantAnalysis\n",
        "from sklearn.naive_bayes import GaussianNB\n",
        "from sklearn.svm import SVC\n",
        "\n",
        "\n"
      ],
      "execution_count": 14,
      "outputs": []
    },
    {
      "cell_type": "code",
      "metadata": {
        "id": "C1uxSzA97V3a",
        "outputId": "84cceb26-828d-4d15-e60a-4d435a6fbaa1",
        "colab": {
          "base_uri": "https://localhost:8080/",
          "height": 485
        }
      },
      "source": [
        "# dividindo os conjuntos aleatoriamente\n",
        "X_train, X_validation, Y_train, Y_validation = train_test_split(X, y, test_size=0.20, random_state=1, shuffle=True)\n",
        "\n",
        "# criando os modelos e adicionando num vetor de tuplas pra facilitar o código\n",
        "models = []\n",
        "models.append(('LR', LogisticRegression(solver='liblinear', multi_class='ovr')))\n",
        "models.append(('KNN', KNeighborsClassifier()))\n",
        "models.append(('SVM', SVC(gamma='auto')))\n",
        "models.append(('CART', DecisionTreeClassifier()))\n",
        "models.append(('LDA', LinearDiscriminantAnalysis()))\n",
        "models.append(('NB', GaussianNB()))\n",
        "\n",
        "# avaliando cada um dos modelos utilizando cross-validation com stratified\n",
        "results = []\n",
        "names = []\n",
        "\n",
        "for name, model in models:\n",
        "\tkfold = StratifiedKFold(n_splits=5, random_state=1, shuffle=True)\n",
        "\tcv_results = cross_val_score(model, X_train, Y_train, cv=kfold, scoring='accuracy')\n",
        "\tresults.append(cv_results)\n",
        "\tnames.append(name)\n",
        "\tprint('modelo %s: média %f desvio(%f)' % (name, cv_results.mean(), cv_results.std()))\n",
        " \n",
        " # Compare Algorithms\n",
        "plt.boxplot(results, labels=names)\n",
        "plt.title('Comparação dos Algoritmos')\n",
        "plt.show()\n",
        "\n",
        "# exibindo os resultados gerais\n",
        "for result in results:\n",
        "  print(result)"
      ],
      "execution_count": 15,
      "outputs": [
        {
          "output_type": "stream",
          "text": [
            "modelo LR: média 0.569991 desvio(0.026724)\n",
            "modelo KNN: média 0.498863 desvio(0.038901)\n",
            "modelo SVM: média 0.561403 desvio(0.020633)\n",
            "modelo CART: média 0.590316 desvio(0.016565)\n",
            "modelo LDA: média 0.590340 desvio(0.041203)\n",
            "modelo NB: média 0.527773 desvio(0.030445)\n"
          ],
          "name": "stdout"
        },
        {
          "output_type": "display_data",
          "data": {
            "image/png": "[encoded data removed]",
            "text/plain": [
              "<Figure size 432x288 with 1 Axes>"
            ]
          },
          "metadata": {
            "tags": [],
            "needs_background": "light"
          }
        },
        {
          "output_type": "stream",
          "text": [
            "[0.54296875 0.5703125  0.609375   0.5390625  0.58823529]\n",
            "[0.49609375 0.48828125 0.53125    0.43359375 0.54509804]\n",
            "[0.5546875  0.5703125  0.55078125 0.53515625 0.59607843]\n",
            "[0.58203125 0.56640625 0.61328125 0.5859375  0.60392157]\n",
            "[0.53515625 0.59765625 0.6328125  0.55078125 0.63529412]\n",
            "[0.5078125  0.51953125 0.57421875 0.48828125 0.54901961]\n"
          ],
          "name": "stdout"
        }
      ]
    }
  ]
}